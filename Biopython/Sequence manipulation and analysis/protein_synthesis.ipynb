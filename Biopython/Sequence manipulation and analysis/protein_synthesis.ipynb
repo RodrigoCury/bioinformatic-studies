{
 "metadata": {
  "language_info": {
   "codemirror_mode": {
    "name": "ipython",
    "version": 3
   },
   "file_extension": ".py",
   "mimetype": "text/x-python",
   "name": "python",
   "nbconvert_exporter": "python",
   "pygments_lexer": "ipython3",
   "version": "3.8.5-final"
  },
  "orig_nbformat": 2,
  "kernelspec": {
   "name": "python38564bitenvvenva8ef8ee9f8704ae6bec04562fe3e7aa7",
   "display_name": "Python 3.8.5 64-bit ('env': venv)",
   "language": "python"
  }
 },
 "nbformat": 4,
 "nbformat_minor": 2,
 "cells": [
  {
   "cell_type": "code",
   "execution_count": 11,
   "metadata": {},
   "outputs": [],
   "source": [
    "from Bio.Seq import Seq"
   ]
  },
  {
   "cell_type": "code",
   "execution_count": 12,
   "metadata": {},
   "outputs": [],
   "source": [
    "sequence_dna = Seq(\"ATCGATCGATCAGTCAGCTGA\")"
   ]
  },
  {
   "source": [
    "# DNA Methods"
   ],
   "cell_type": "markdown",
   "metadata": {}
  },
  {
   "cell_type": "code",
   "execution_count": 13,
   "metadata": {},
   "outputs": [
    {
     "output_type": "execute_result",
     "data": {
      "text/plain": [
       "Seq('TAGCTAGCTAGTCAGTCGACT')"
      ]
     },
     "metadata": {},
     "execution_count": 13
    }
   ],
   "source": [
    "\n",
    "sequence_dna.complement()\n",
    "\n"
   ]
  },
  {
   "cell_type": "code",
   "execution_count": 14,
   "metadata": {},
   "outputs": [
    {
     "output_type": "execute_result",
     "data": {
      "text/plain": [
       "Seq('TCAGCTGACTGATCGATCGAT')"
      ]
     },
     "metadata": {},
     "execution_count": 14
    }
   ],
   "source": [
    "sequence_dna.reverse_complement()"
   ]
  },
  {
   "cell_type": "code",
   "execution_count": 15,
   "metadata": {},
   "outputs": [
    {
     "output_type": "execute_result",
     "data": {
      "text/plain": [
       "Seq('AUCGAUCGAUCAGUCAGCUGA')"
      ]
     },
     "metadata": {},
     "execution_count": 15
    }
   ],
   "source": [
    "sequence_dna.transcribe()"
   ]
  },
  {
   "cell_type": "code",
   "execution_count": 16,
   "metadata": {},
   "outputs": [
    {
     "output_type": "execute_result",
     "data": {
      "text/plain": [
       "Seq('IDRSVS*')"
      ]
     },
     "metadata": {},
     "execution_count": 16
    }
   ],
   "source": [
    "sequence_dna.translate()\n"
   ]
  },
  {
   "cell_type": "code",
   "execution_count": 17,
   "metadata": {},
   "outputs": [
    {
     "output_type": "execute_result",
     "data": {
      "text/plain": [
       "Seq('IDRSVS stop ')"
      ]
     },
     "metadata": {},
     "execution_count": 17
    }
   ],
   "source": [
    "# Custom Stop Codon Symbol\n",
    "sequence_dna.translate(stop_symbol=\" stop \")"
   ]
  },
  {
   "source": [
    "# RNA methods"
   ],
   "cell_type": "markdown",
   "metadata": {}
  },
  {
   "cell_type": "code",
   "execution_count": 18,
   "metadata": {},
   "outputs": [],
   "source": [
    "messenger_rna = Seq(\"UUGCAUGCAGCACGAACGUGA\")"
   ]
  },
  {
   "cell_type": "code",
   "execution_count": 19,
   "metadata": {},
   "outputs": [
    {
     "output_type": "execute_result",
     "data": {
      "text/plain": [
       "Seq('TTGCATGCAGCACGAACGTGA')"
      ]
     },
     "metadata": {},
     "execution_count": 19
    }
   ],
   "source": [
    "messenger_rna.back_transcribe()"
   ]
  },
  {
   "cell_type": "code",
   "execution_count": 20,
   "metadata": {},
   "outputs": [
    {
     "output_type": "execute_result",
     "data": {
      "text/plain": [
       "Seq('LHAART*')"
      ]
     },
     "metadata": {},
     "execution_count": 20
    }
   ],
   "source": [
    "messenger_rna.translate()"
   ]
  },
  {
   "source": [
    "# Protein Methods"
   ],
   "cell_type": "markdown",
   "metadata": {}
  },
  {
   "cell_type": "code",
   "execution_count": 21,
   "metadata": {},
   "outputs": [],
   "source": [
    "#Utility tool to transform the protein text for better visualization\n",
    "from Bio.SeqUtils import seq1, seq3"
   ]
  },
  {
   "cell_type": "code",
   "execution_count": 22,
   "metadata": {},
   "outputs": [],
   "source": [
    "protein_sequence = Seq(\"MIDRSVS*\")"
   ]
  },
  {
   "cell_type": "code",
   "execution_count": 23,
   "metadata": {},
   "outputs": [
    {
     "output_type": "execute_result",
     "data": {
      "text/plain": [
       "'MetIleAspArgSerValSerTer'"
      ]
     },
     "metadata": {},
     "execution_count": 23
    }
   ],
   "source": [
    "protein_seq3 = seq3(protein_sequence)\n",
    "protein_seq3"
   ]
  },
  {
   "cell_type": "code",
   "execution_count": 25,
   "metadata": {},
   "outputs": [
    {
     "output_type": "execute_result",
     "data": {
      "text/plain": [
       "'MIDRSVS*'"
      ]
     },
     "metadata": {},
     "execution_count": 25
    }
   ],
   "source": [
    "seq1(protein_seq3)"
   ]
  },
  {
   "source": [
    "# View Codon Table"
   ],
   "cell_type": "code",
   "metadata": {},
   "execution_count": 26,
   "outputs": []
  },
  {
   "cell_type": "code",
   "execution_count": 27,
   "metadata": {},
   "outputs": [],
   "source": [
    "from Bio.Data import CodonTable"
   ]
  },
  {
   "cell_type": "code",
   "execution_count": 28,
   "metadata": {},
   "outputs": [
    {
     "output_type": "stream",
     "name": "stdout",
     "text": [
      "Table 1 Standard, SGC0\n\n  |  T      |  C      |  A      |  G      |\n--+---------+---------+---------+---------+--\nT | TTT F   | TCT S   | TAT Y   | TGT C   | T\nT | TTC F   | TCC S   | TAC Y   | TGC C   | C\nT | TTA L   | TCA S   | TAA Stop| TGA Stop| A\nT | TTG L(s)| TCG S   | TAG Stop| TGG W   | G\n--+---------+---------+---------+---------+--\nC | CTT L   | CCT P   | CAT H   | CGT R   | T\nC | CTC L   | CCC P   | CAC H   | CGC R   | C\nC | CTA L   | CCA P   | CAA Q   | CGA R   | A\nC | CTG L(s)| CCG P   | CAG Q   | CGG R   | G\n--+---------+---------+---------+---------+--\nA | ATT I   | ACT T   | AAT N   | AGT S   | T\nA | ATC I   | ACC T   | AAC N   | AGC S   | C\nA | ATA I   | ACA T   | AAA K   | AGA R   | A\nA | ATG M(s)| ACG T   | AAG K   | AGG R   | G\n--+---------+---------+---------+---------+--\nG | GTT V   | GCT A   | GAT D   | GGT G   | T\nG | GTC V   | GCC A   | GAC D   | GGC G   | C\nG | GTA V   | GCA A   | GAA E   | GGA G   | A\nG | GTG V   | GCG A   | GAG E   | GGG G   | G\n--+---------+---------+---------+---------+--\n"
     ]
    }
   ],
   "source": [
    "print(CodonTable.ambiguous_dna_by_name[\"Standard\"])"
   ]
  }
 ]
}