{
 "metadata": {
  "language_info": {
   "codemirror_mode": {
    "name": "ipython",
    "version": 3
   },
   "file_extension": ".py",
   "mimetype": "text/x-python",
   "name": "python",
   "nbconvert_exporter": "python",
   "pygments_lexer": "ipython3",
   "version": "3.8.5-final"
  },
  "orig_nbformat": 2,
  "kernelspec": {
   "name": "python38564bitenvvenva8ef8ee9f8704ae6bec04562fe3e7aa7",
   "display_name": "Python 3.8.5 64-bit ('env': venv)",
   "language": "python"
  }
 },
 "nbformat": 4,
 "nbformat_minor": 2,
 "cells": [
  {
   "cell_type": "code",
   "execution_count": 1,
   "metadata": {},
   "outputs": [],
   "source": [
    "from Bio.Seq import Seq\n",
    "from Bio.SeqUtils import GC"
   ]
  },
  {
   "cell_type": "code",
   "execution_count": 2,
   "metadata": {},
   "outputs": [],
   "source": [
    "dna_sequence = Seq(\"ATCGATCGATCAGTCAGCTGA\")"
   ]
  },
  {
   "source": [
    "# Get the frequence of GC and AT in a Sequence"
   ],
   "cell_type": "markdown",
   "metadata": {}
  },
  {
   "cell_type": "code",
   "execution_count": 3,
   "metadata": {},
   "outputs": [],
   "source": [
    "def AT(seq):\n",
    "    return 100 - GC(seq)"
   ]
  },
  {
   "cell_type": "code",
   "execution_count": 4,
   "metadata": {},
   "outputs": [
    {
     "output_type": "execute_result",
     "data": {
      "text/plain": [
       "47.61904761904762"
      ]
     },
     "metadata": {},
     "execution_count": 4
    }
   ],
   "source": [
    "GC(dna_sequence)"
   ]
  },
  {
   "cell_type": "code",
   "execution_count": 5,
   "metadata": {},
   "outputs": [
    {
     "output_type": "execute_result",
     "data": {
      "text/plain": [
       "52.38095238095238"
      ]
     },
     "metadata": {},
     "execution_count": 5
    }
   ],
   "source": [
    "AT(dna_sequence)"
   ]
  },
  {
   "cell_type": "code",
   "execution_count": 6,
   "metadata": {},
   "outputs": [
    {
     "output_type": "execute_result",
     "data": {
      "text/plain": [
       "100.0"
      ]
     },
     "metadata": {},
     "execution_count": 6
    }
   ],
   "source": [
    "GC(dna_sequence) + AT(dna_sequence)"
   ]
  },
  {
   "source": [
    "# Finding temperature point for anneiling a DNA sequence\n",
    " **Higher GC content means higher melting point**\n",
    "  * TM_Wallace  -> \"Rule of thumb\"\n",
    "  * TM_GC       -> Calculation based on GC content. Salt and mismatch corrections can be included.\n",
    "  * TM_NN       -> Calculation based on nearest neighbor thermodynamics. Several tables for DNA/DNA, DNA/RNA and RNA/RNA hybridizations are included. Corrections for mismatches, danglinh ends, salt concentration and other additives ate available."
   ],
   "cell_type": "markdown",
   "metadata": {}
  },
  {
   "cell_type": "code",
   "execution_count": 7,
   "metadata": {},
   "outputs": [],
   "source": [
    "from Bio.SeqUtils import MeltingTemp as mt"
   ]
  },
  {
   "cell_type": "code",
   "execution_count": 8,
   "metadata": {},
   "outputs": [
    {
     "output_type": "execute_result",
     "data": {
      "text/plain": [
       "62.0"
      ]
     },
     "metadata": {},
     "execution_count": 8
    }
   ],
   "source": [
    "mt.Tm_Wallace(dna_sequence)"
   ]
  },
  {
   "cell_type": "code",
   "execution_count": 9,
   "metadata": {},
   "outputs": [
    {
     "output_type": "execute_result",
     "data": {
      "text/plain": [
       "50.60727321779612"
      ]
     },
     "metadata": {},
     "execution_count": 9
    }
   ],
   "source": [
    "mt.Tm_GC(dna_sequence)"
   ]
  },
  {
   "source": [
    "# Excercise\n",
    " **Which of the sequences below has the highest GC**\n",
    "  * ex1 = ATGCATGGTGCGCGA\n",
    "  * ex2 = ATTTGTGCTCCTGGA"
   ],
   "cell_type": "markdown",
   "metadata": {}
  },
  {
   "cell_type": "code",
   "execution_count": 10,
   "metadata": {},
   "outputs": [],
   "source": [
    "seq1 = Seq(\"ATGCATGGTGCGCGA\")\n",
    "seq2 = Seq(\"ATTTGTGCTCCTGGA\")"
   ]
  },
  {
   "cell_type": "code",
   "execution_count": 11,
   "metadata": {},
   "outputs": [],
   "source": [
    "def check_higher_GC(sequence1, sequence2):\n",
    "    if GC(sequence1) > GC(sequence2): \n",
    "        return f\"{sequence1} has higher GC content\"\n",
    "    elif GC(sequence1) == GC(sequence2): \n",
    "        return f\"Sequences has the same GC content\"\n",
    "    else: \n",
    "        return f\"{sequence2} has higher GC content\""
   ]
  },
  {
   "cell_type": "code",
   "execution_count": 12,
   "metadata": {},
   "outputs": [
    {
     "output_type": "execute_result",
     "data": {
      "text/plain": [
       "'ATGCATGGTGCGCGA has higher GC content'"
      ]
     },
     "metadata": {},
     "execution_count": 12
    }
   ],
   "source": [
    "check_higher_GC(seq1, seq2)"
   ]
  },
  {
   "cell_type": "code",
   "execution_count": 13,
   "metadata": {},
   "outputs": [],
   "source": [
    "def get_metrics(seq):\n",
    "    gc = GC(seq)\n",
    "    at = AT(seq)\n",
    "    melt_temp = mt.Tm_GC(seq)\n",
    "    return f\"seq:{seq}: GC:{gc}, AT:{at}, temp:{melt_temp}\""
   ]
  },
  {
   "source": [
    "get_metrics(seq1)"
   ],
   "cell_type": "code",
   "metadata": {},
   "execution_count": 14,
   "outputs": [
    {
     "output_type": "execute_result",
     "data": {
      "text/plain": [
       "'seq:ATGCATGGTGCGCGA: GC:60.0, AT:40.0, temp:44.254892265415165'"
      ]
     },
     "metadata": {},
     "execution_count": 14
    },
    {
     "output_type": "stream",
     "name": "stdout",
     "text": [
      "The history saving thread hit an unexpected error (OperationalError('attempt to write a readonly database')).History will not be written to the database.\n"
     ]
    }
   ]
  },
  {
   "source": [
    "get_metrics(seq2)"
   ],
   "cell_type": "code",
   "metadata": {},
   "execution_count": 15,
   "outputs": [
    {
     "output_type": "execute_result",
     "data": {
      "text/plain": [
       "'seq:ATTTGTGCTCCTGGA: GC:46.666666666666664, AT:53.333333333333336, temp:38.7882255987485'"
      ]
     },
     "metadata": {},
     "execution_count": 15
    }
   ]
  },
  {
   "source": [
    "## GC Skew\n",
    "\n",
    "* Check when the nucleotide are over or under abundant in a particluar region of a DNA or RNA\n",
    "* Helps to indicate DNA lagging strand or leading strand\n",
    "* GC Skew pos(+) = leading\n",
    "* GC Skew neg(-) = lagging\n",
    "* GC Skew == 0   = no lagging or leading"
   ],
   "cell_type": "markdown",
   "metadata": {}
  },
  {
   "cell_type": "code",
   "execution_count": 16,
   "metadata": {},
   "outputs": [],
   "source": [
    "from Bio.SeqUtils import GC123, GC_skew, xGC_skew"
   ]
  },
  {
   "cell_type": "code",
   "execution_count": 17,
   "metadata": {},
   "outputs": [],
   "source": [
    "dna_sequence = Seq(\"ATGATCTCGTAA\")"
   ]
  },
  {
   "cell_type": "code",
   "execution_count": 18,
   "metadata": {},
   "outputs": [
    {
     "output_type": "execute_result",
     "data": {
      "text/plain": [
       "(33.333333333333336, 0.0, 25.0, 75.0)"
      ]
     },
     "metadata": {},
     "execution_count": 18
    }
   ],
   "source": [
    "# GC123 is used to know the GC content for the whole sequence and for the first, second and third position of every single codon in the sequence\n",
    "GC123(dna_sequence)"
   ]
  },
  {
   "cell_type": "code",
   "execution_count": 19,
   "metadata": {},
   "outputs": [
    {
     "output_type": "execute_result",
     "data": {
      "text/plain": [
       "[0.0]"
      ]
     },
     "metadata": {},
     "execution_count": 19
    }
   ],
   "source": [
    "# GC_Skew\n",
    "GC_skew(dna_sequence)"
   ]
  },
  {
   "cell_type": "code",
   "execution_count": 20,
   "metadata": {},
   "outputs": [
    {
     "output_type": "execute_result",
     "data": {
      "text/plain": [
       "[0.4117647058823529]"
      ]
     },
     "metadata": {},
     "execution_count": 20
    }
   ],
   "source": [
    "GC_skew(\"ATGGGCCTAGGCCCGGAGGGGG\")"
   ]
  },
  {
   "cell_type": "code",
   "execution_count": 21,
   "metadata": {},
   "outputs": [
    {
     "output_type": "execute_result",
     "data": {
      "text/plain": [
       "[0.2857142857142857]"
      ]
     },
     "metadata": {},
     "execution_count": 21
    }
   ],
   "source": [
    "# Doesn't look at any ambiguous nucleotides like \"S\"\n",
    "GC_skew(\"ATGGGCCTAGGCCCGGAGGSSS\") # 3 S's in place of G's"
   ]
  },
  {
   "cell_type": "code",
   "execution_count": 24,
   "metadata": {},
   "outputs": [
    {
     "output_type": "error",
     "ename": "ModuleNotFoundError",
     "evalue": "No module named 'Tkinter'",
     "traceback": [
      "\u001b[0;31m---------------------------------------------------------------------------\u001b[0m",
      "\u001b[0;31mModuleNotFoundError\u001b[0m                       Traceback (most recent call last)",
      "\u001b[0;32m<ipython-input-24-704cc3290477>\u001b[0m in \u001b[0;36m<module>\u001b[0;34m\u001b[0m\n\u001b[1;32m      1\u001b[0m \u001b[0;31m#plots\u001b[0m\u001b[0;34m\u001b[0m\u001b[0;34m\u001b[0m\u001b[0;34m\u001b[0m\u001b[0m\n\u001b[0;32m----> 2\u001b[0;31m \u001b[0mxGC_skew\u001b[0m\u001b[0;34m(\u001b[0m\u001b[0;34m\"ATGGGCCTAGGCCCGGAGGGGG\"\u001b[0m\u001b[0;34m)\u001b[0m\u001b[0;34m\u001b[0m\u001b[0;34m\u001b[0m\u001b[0m\n\u001b[0m",
      "\u001b[0;32m~/Área de Trabalho/bioinformatics-studies/env/lib/python3.8/site-packages/Bio/SeqUtils/__init__.py\u001b[0m in \u001b[0;36mxGC_skew\u001b[0;34m(seq, window, zoom, r, px, py)\u001b[0m\n\u001b[1;32m    112\u001b[0m \u001b[0;32mdef\u001b[0m \u001b[0mxGC_skew\u001b[0m\u001b[0;34m(\u001b[0m\u001b[0mseq\u001b[0m\u001b[0;34m,\u001b[0m \u001b[0mwindow\u001b[0m\u001b[0;34m=\u001b[0m\u001b[0;36m1000\u001b[0m\u001b[0;34m,\u001b[0m \u001b[0mzoom\u001b[0m\u001b[0;34m=\u001b[0m\u001b[0;36m100\u001b[0m\u001b[0;34m,\u001b[0m \u001b[0mr\u001b[0m\u001b[0;34m=\u001b[0m\u001b[0;36m300\u001b[0m\u001b[0;34m,\u001b[0m \u001b[0mpx\u001b[0m\u001b[0;34m=\u001b[0m\u001b[0;36m100\u001b[0m\u001b[0;34m,\u001b[0m \u001b[0mpy\u001b[0m\u001b[0;34m=\u001b[0m\u001b[0;36m100\u001b[0m\u001b[0;34m)\u001b[0m\u001b[0;34m:\u001b[0m\u001b[0;34m\u001b[0m\u001b[0;34m\u001b[0m\u001b[0m\n\u001b[1;32m    113\u001b[0m     \u001b[0;34m\"\"\"Calculate and plot normal and accumulated GC skew (GRAPHICS !!!).\"\"\"\u001b[0m\u001b[0;34m\u001b[0m\u001b[0;34m\u001b[0m\u001b[0m\n\u001b[0;32m--> 114\u001b[0;31m     \u001b[0;32mimport\u001b[0m \u001b[0mTkinter\u001b[0m\u001b[0;34m\u001b[0m\u001b[0;34m\u001b[0m\u001b[0m\n\u001b[0m\u001b[1;32m    115\u001b[0m \u001b[0;34m\u001b[0m\u001b[0m\n\u001b[1;32m    116\u001b[0m     \u001b[0myscroll\u001b[0m \u001b[0;34m=\u001b[0m \u001b[0mtkinter\u001b[0m\u001b[0;34m.\u001b[0m\u001b[0mScrollbar\u001b[0m\u001b[0;34m(\u001b[0m\u001b[0morient\u001b[0m\u001b[0;34m=\u001b[0m\u001b[0mtkinter\u001b[0m\u001b[0;34m.\u001b[0m\u001b[0mVERTICAL\u001b[0m\u001b[0;34m)\u001b[0m\u001b[0;34m\u001b[0m\u001b[0;34m\u001b[0m\u001b[0m\n",
      "\u001b[0;31mModuleNotFoundError\u001b[0m: No module named 'Tkinter'"
     ]
    }
   ],
   "source": [
    "#plots\n",
    "xGC_skew(\"ATGGGCCTAGGCCCGGAGGGGG\")\n"
   ]
  },
  {
   "cell_type": "code",
   "execution_count": null,
   "metadata": {},
   "outputs": [],
   "source": []
  }
 ]
}