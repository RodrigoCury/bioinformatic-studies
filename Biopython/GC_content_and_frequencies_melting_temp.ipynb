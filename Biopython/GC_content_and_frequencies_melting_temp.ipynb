{
 "metadata": {
  "language_info": {
   "codemirror_mode": {
    "name": "ipython",
    "version": 3
   },
   "file_extension": ".py",
   "mimetype": "text/x-python",
   "name": "python",
   "nbconvert_exporter": "python",
   "pygments_lexer": "ipython3",
   "version": "3.8.5-final"
  },
  "orig_nbformat": 2,
  "kernelspec": {
   "name": "python38564bitenvvenva8ef8ee9f8704ae6bec04562fe3e7aa7",
   "display_name": "Python 3.8.5 64-bit ('env': venv)",
   "language": "python"
  }
 },
 "nbformat": 4,
 "nbformat_minor": 2,
 "cells": [
  {
   "cell_type": "code",
   "execution_count": 1,
   "metadata": {},
   "outputs": [],
   "source": [
    "from Bio.Seq import Seq\n",
    "from Bio.SeqUtils import GC"
   ]
  },
  {
   "cell_type": "code",
   "execution_count": 2,
   "metadata": {},
   "outputs": [],
   "source": [
    "dna_sequence = Seq(\"ATCGATCGATCAGTCAGCTGA\")"
   ]
  },
  {
   "source": [
    "# Get the frequence of GC and AT in a Sequence"
   ],
   "cell_type": "markdown",
   "metadata": {}
  },
  {
   "cell_type": "code",
   "execution_count": 8,
   "metadata": {},
   "outputs": [],
   "source": [
    "def AT(seq):\n",
    "    return 100 - GC(dna_sequence)"
   ]
  },
  {
   "cell_type": "code",
   "execution_count": 6,
   "metadata": {},
   "outputs": [
    {
     "output_type": "execute_result",
     "data": {
      "text/plain": [
       "47.61904761904762"
      ]
     },
     "metadata": {},
     "execution_count": 6
    }
   ],
   "source": [
    "GC(dna_sequence)"
   ]
  },
  {
   "cell_type": "code",
   "execution_count": 9,
   "metadata": {},
   "outputs": [
    {
     "output_type": "execute_result",
     "data": {
      "text/plain": [
       "52.38095238095238"
      ]
     },
     "metadata": {},
     "execution_count": 9
    }
   ],
   "source": [
    "AT(dna_sequence)"
   ]
  },
  {
   "cell_type": "code",
   "execution_count": 10,
   "metadata": {},
   "outputs": [
    {
     "output_type": "execute_result",
     "data": {
      "text/plain": [
       "100.0"
      ]
     },
     "metadata": {},
     "execution_count": 10
    }
   ],
   "source": [
    "GC(dna_sequence) + AT(dna_sequence)"
   ]
  },
  {
   "source": [
    "# Finding temperature point for anneiling a DNA sequence\n",
    " **Higher GC content means higher melting point**\n",
    "  * TM_Wallace  -> \"Rule of thumb\"\n",
    "  * TM_GC       -> Calculation based on GC content. Salt and mismatch corrections can be included.\n",
    "  * TM_NN       -> Calculation based on nearest neighbor thermodynamics. Several tables for DNA/DNA, DNA/RNA and RNA/RNA hybridizations are included. Corrections for mismatches, danglinh ends, salt concentration and other additives ate available."
   ],
   "cell_type": "markdown",
   "metadata": {}
  },
  {
   "cell_type": "code",
   "execution_count": null,
   "metadata": {},
   "outputs": [],
   "source": []
  }
 ]
}