{
 "metadata": {
  "language_info": {
   "codemirror_mode": {
    "name": "ipython",
    "version": 3
   },
   "file_extension": ".py",
   "mimetype": "text/x-python",
   "name": "python",
   "nbconvert_exporter": "python",
   "pygments_lexer": "ipython3",
   "version": "3.8.5-final"
  },
  "orig_nbformat": 2,
  "kernelspec": {
   "name": "python38564bitenve2c7ca5fee9246d4b14f643c16a7412a",
   "display_name": "Python 3.8.5 64-bit ('env')",
   "language": "python"
  }
 },
 "nbformat": 4,
 "nbformat_minor": 2,
 "cells": [
  {
   "source": [
    "# Sequence Alignment\n",
    "* Sequence Alignment is a method of arranging sequences of DNA, RNA, Amino Acids or Proteins to identify regions of similarity;\n",
    "* The similarity being identified, may be a result of functional, structural or evolutionary relationships between the sequences;\n",
    "* It is useful in identifying similarity and homology;\n",
    "* Homology: descent from a commo ancestor or source\n",
    "\n",
    "## Terms\n",
    "\n",
    "* Matches\n",
    "* Mismatches\n",
    "* Gap"
   ],
   "cell_type": "markdown",
   "metadata": {}
  },
  {
   "source": [
    "def represent_terms():\n",
    "    print(\"* ACTCGC   A    C        T       C       G   \\n* |.||     |    .        |       |           \\n* ATTC-T   A    T        T       C       -   \\n*        Match Mismatch Match  Match    Gap  \")"
   ],
   "cell_type": "code",
   "metadata": {},
   "execution_count": 32,
   "outputs": []
  },
  {
   "cell_type": "code",
   "execution_count": 33,
   "metadata": {},
   "outputs": [
    {
     "output_type": "stream",
     "name": "stdout",
     "text": [
      "* ACTCGC   A    C        T       C       G   \n* |.||     |    .        |       |           \n* ATTC-T   A    T        T       C       -   \n*        Match Mismatch Match  Match    Gap  \n"
     ]
    }
   ],
   "source": [
    "represent_terms()"
   ]
  },
  {
   "source": [
    "### Alignment Types\n",
    "* Global Alignment: finds the best concordance/agreement between all characters in two sequences\n",
    "    * Mostly from end to end\n",
    "    * Proposed by Needle\n",
    "* Local Alignment: finds just the subsequences that allign the best\n",
    "    * In this method, we consider subsequences within each of the two sequences and try to match them to get the best alignment\n",
    "    * Proposed by Water\n"
   ],
   "cell_type": "markdown",
   "metadata": {}
  },
  {
   "source": [
    "# When to use Local Alignment\n",
    "* Two sequences have a small matched region\n",
    "* Two sequences are of different lenghts\n",
    "* Overlapping sequences\n",
    "* One sequence is a subsequence of the other\n",
    "* BLAST\n",
    "* Emboss"
   ],
   "cell_type": "markdown",
   "metadata": {}
  },
  {
   "source": [
    "from Bio import pairwise2\n",
    "from Bio.pairwise2 import format_alignment"
   ],
   "cell_type": "code",
   "metadata": {},
   "execution_count": 3,
   "outputs": []
  },
  {
   "cell_type": "code",
   "execution_count": 4,
   "metadata": {},
   "outputs": [],
   "source": [
    "from Bio.Seq import Seq"
   ]
  },
  {
   "cell_type": "code",
   "execution_count": 5,
   "metadata": {},
   "outputs": [],
   "source": [
    "seq1 = Seq(\"ACTCGT\")\n",
    "seq2 = Seq(\"ATTCG\")"
   ]
  },
  {
   "cell_type": "code",
   "execution_count": 6,
   "metadata": {},
   "outputs": [
    {
     "output_type": "execute_result",
     "data": {
      "text/plain": [
       "[Alignment(seqA='ACT-CGT', seqB='A-TTCG-', score=4.0, start=0, end=7),\n",
       " Alignment(seqA='AC-TCGT', seqB='A-TTCG-', score=4.0, start=0, end=7),\n",
       " Alignment(seqA='ACTCGT', seqB='ATTCG-', score=4.0, start=0, end=6)]"
      ]
     },
     "metadata": {},
     "execution_count": 6
    }
   ],
   "source": [
    "# Global allignment\n",
    "alignments= pairwise2.align.globalxx(seq1, seq2)\n",
    "alignments"
   ]
  },
  {
   "cell_type": "code",
   "execution_count": 7,
   "metadata": {},
   "outputs": [],
   "source": [
    "# To display the allignment \n",
    "def display_alignments(allignments, position=None):\n",
    "    try:\n",
    "        if position == None:\n",
    "            for pos, alignment in enumerate(alignments):\n",
    "                print(f\"Alignment nº{pos + 1}:\")\n",
    "                print(format_alignment(*alignment))\n",
    "        else: print(format_alignment(*alignments[position]))\n",
    "    except:\n",
    "        if type(alignments[0]) != \"Alignment\":\n",
    "            raise TypeError(\"Check the alignment parameter if contains alignment type objects\")\n",
    "        if position not in range(len(alignments)):\n",
    "            raise ValueError(\"Position invalid, it is not in the range of the alignment\")\n",
    "        "
   ]
  },
  {
   "cell_type": "code",
   "execution_count": 8,
   "metadata": {},
   "outputs": [
    {
     "output_type": "stream",
     "name": "stdout",
     "text": [
      "Alignment nº1:\nACT-CGT\n| | || \nA-TTCG-\n  Score=4\n\nAlignment nº2:\nAC-TCGT\n|  ||| \nA-TTCG-\n  Score=4\n\nAlignment nº3:\nACTCGT\n|.||| \nATTCG-\n  Score=4\n\n"
     ]
    }
   ],
   "source": [
    "display_alignments(alignments)"
   ]
  },
  {
   "cell_type": "code",
   "execution_count": 9,
   "metadata": {},
   "outputs": [
    {
     "output_type": "stream",
     "name": "stdout",
     "text": [
      "ACT-CGT\n| | || \nA-TTCG-\n  Score=4\n\n"
     ]
    }
   ],
   "source": [
    "display_alignments(alignments, 0)"
   ]
  },
  {
   "cell_type": "code",
   "execution_count": 18,
   "metadata": {},
   "outputs": [],
   "source": [
    "# Local Alignment\n",
    "local_alignment = pairwise2.align.localxx(seq1, seq2)\n",
    "local_alignment_only_by_score = pairwise2.align.localxx(seq1, seq2, one_alignment_only=True, score_only=True)"
   ]
  },
  {
   "cell_type": "code",
   "execution_count": 19,
   "metadata": {},
   "outputs": [
    {
     "output_type": "stream",
     "name": "stdout",
     "text": [
      "Alignment nº1:\nACT-CGT\n| | || \nA-TTCG-\n  Score=4\n\nAlignment nº2:\nAC-TCGT\n|  ||| \nA-TTCG-\n  Score=4\n\nAlignment nº3:\nACTCGT\n|.||| \nATTCG-\n  Score=4\n\n"
     ]
    }
   ],
   "source": [
    "display_alignments(local_alignment)"
   ]
  },
  {
   "cell_type": "code",
   "execution_count": 20,
   "metadata": {},
   "outputs": [
    {
     "output_type": "execute_result",
     "data": {
      "text/plain": [
       "4.0"
      ]
     },
     "metadata": {},
     "execution_count": 20
    }
   ],
   "source": [
    "#Get the allignment by only the score\n",
    "alignment_only_by_score = pairwise2.align.globalxx(seq1, seq2, one_alignment_only=True, score_only=True)\n",
    "alignment_only_by_score"
   ]
  },
  {
   "source": [
    "# Check for similarity or percentage of similarity using alignment\n",
    "* Fraction od nucleotides that is the same / total number of nucleotides * 100%"
   ],
   "cell_type": "markdown",
   "metadata": {}
  },
  {
   "cell_type": "code",
   "execution_count": 21,
   "metadata": {},
   "outputs": [],
   "source": [
    "def check_percentage(alignment, sequence):\n",
    "    return f\"{alignment / len(sequence) * 100}%\""
   ]
  },
  {
   "cell_type": "code",
   "execution_count": 22,
   "metadata": {},
   "outputs": [
    {
     "output_type": "execute_result",
     "data": {
      "text/plain": [
       "'66.66666666666666%'"
      ]
     },
     "metadata": {},
     "execution_count": 22
    }
   ],
   "source": [
    "check_percentage(alignment_only_by_score, seq1)"
   ]
  },
  {
   "cell_type": "code",
   "execution_count": 24,
   "metadata": {},
   "outputs": [
    {
     "output_type": "execute_result",
     "data": {
      "text/plain": [
       "'66.66666666666666%'"
      ]
     },
     "metadata": {},
     "execution_count": 24
    }
   ],
   "source": [
    "check_percentage(local_alignment_only_by_score, seq1)"
   ]
  },
  {
   "source": [
    "# Find out all the possible Global alignments with maximum similarity score\n",
    "* Matching Characters: 2 pts;\n",
    "* Each mismatching characters: -1pt;\n",
    "* Opening a Gap: -0.5pt.\n",
    "* Extending a Gap: -0.1pt."
   ],
   "cell_type": "markdown",
   "metadata": {}
  },
  {
   "cell_type": "code",
   "execution_count": 27,
   "metadata": {},
   "outputs": [
    {
     "output_type": "stream",
     "name": "stdout",
     "text": [
      "Alignment nº1:\nACT-CGT\n| | || \nA-TTCG-\n  Score=4\n\nAlignment nº2:\nAC-TCGT\n|  ||| \nA-TTCG-\n  Score=4\n\nAlignment nº3:\nACTCGT\n|.||| \nATTCG-\n  Score=4\n\n"
     ]
    }
   ],
   "source": [
    "# Global alignment with max simularity\n",
    "glb_alignment = pairwise2.align.globalms(seq1, seq2, 2, -1, -0.5, -0.1)\n",
    "display_alignments(glb_alignment)"
   ]
  },
  {
   "cell_type": "code",
   "execution_count": null,
   "metadata": {},
   "outputs": [],
   "source": []
  }
 ]
}